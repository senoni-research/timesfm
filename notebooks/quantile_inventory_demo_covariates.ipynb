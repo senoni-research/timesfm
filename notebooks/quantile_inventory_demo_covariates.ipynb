{
  "cells": [
    {
      "cell_type": "markdown",
      "metadata": {},
      "source": [
        "# TimesFM 2.5 Quantile Forecasting + Covariates for Inventory Planning\n",
        "\n",
        "This notebook demonstrates using TimesFM 2.5's quantile head with covariates for inventory decisions:\n",
        "\n",
        "- Covariate integration: static (store, product group) + dynamic (month, week)\n",
        "- Quantile adjustments: xreg adjustments applied to ALL quantile levels (P10–P90)\n",
        "- Service-level policies: target ~τ cycle service with period coverage\n",
        "- Newsvendor optimization: cost-optimal quantile via Cu/(Cu+Co)\n",
        "- Calibration-ready outputs\n",
        "\n",
        "Enhancement: Combines `forecast_with_covariates()` + `use_continuous_quantile_head=True`\n",
        "\n",
        "Data: VN2 Inventory Planning Challenge\n",
        "\n",
        "Reference: see `quantile.md` for theory and context.\n"
      ]
    },
    {
      "cell_type": "code",
      "execution_count": 1,
      "metadata": {},
      "outputs": [
        {
          "name": "stdout",
          "output_type": "stream",
          "text": [
            "PyTorch: 2.8.0\n",
            "CUDA available: False\n"
          ]
        }
      ],
      "source": [
        "# Setup\n",
        "import sys\n",
        "from pathlib import Path\n",
        "import pandas as pd\n",
        "import numpy as np\n",
        "import matplotlib.pyplot as plt\n",
        "import seaborn as sns\n",
        "import warnings\n",
        "warnings.filterwarnings('ignore')\n",
        "\n",
        "# TimesFM\n",
        "import torch\n",
        "timesfm_path = Path(\"..\").resolve()\n",
        "if str(timesfm_path) not in sys.path:\n",
        "    sys.path.insert(0, str(timesfm_path))\n",
        "import timesfm\n",
        "\n",
        "sns.set_theme(style=\"whitegrid\")\n",
        "plt.rcParams['figure.figsize'] = (14, 6)\n",
        "\n",
        "print(f\"PyTorch: {torch.__version__}\")\n",
        "print(f\"CUDA available: {torch.cuda.is_available()}\")\n"
      ]
    },
    {
      "cell_type": "code",
      "execution_count": 2,
      "metadata": {},
      "outputs": [
        {
          "name": "stdout",
          "output_type": "stream",
          "text": [
            "Sales data shape: (94043, 9)\n",
            "Columns: ['Store', 'Product', 'date', 'sales_qty', 'week_of_year', 'month', 'quarter', 'ProductGroup', 'Department']\n",
            "✓ Data loaded successfully\n"
          ]
        }
      ],
      "source": [
        "# Load VN2 data (robust)\n",
        "DATA_DIR = Path(\"../../vn2inventory/data\").resolve()\n",
        "\n",
        "sales_df = pd.read_csv(DATA_DIR / \"Week 0 - 2024-04-08 - Sales.csv\")\n",
        "master_df = pd.read_csv(DATA_DIR / \"Week 0 - Master.csv\")\n",
        "\n",
        "# Strip whitespace in source columns\n",
        "sales_df.columns = sales_df.columns.str.strip()\n",
        "master_df.columns = master_df.columns.str.strip()\n",
        "\n",
        "# Melt to long\n",
        "id_cols = [\"Store\", \"Product\"]\n",
        "assert set(id_cols).issubset(sales_df.columns), f\"Missing id columns in sales_df: {set(id_cols) - set(sales_df.columns)}\"\n",
        "\n",
        "sales_long = sales_df.melt(id_vars=id_cols, var_name=\"date\", value_name=\"sales_qty\")\n",
        "\n",
        "# Normalize columns and types\n",
        "sales_long.columns = sales_long.columns.str.strip()\n",
        "sales_long[\"date\"] = pd.to_datetime(sales_long[\"date\"], errors=\"coerce\")\n",
        "sales_long[\"sales_qty\"] = pd.to_numeric(sales_long[\"sales_qty\"], errors=\"coerce\").fillna(0.0)\n",
        "sales_long[\"Store\"] = pd.to_numeric(sales_long[\"Store\"], errors=\"coerce\").fillna(0).astype(int)\n",
        "sales_long[\"Product\"] = pd.to_numeric(sales_long[\"Product\"], errors=\"coerce\").fillna(0).astype(int)\n",
        "\n",
        "# Temporal features\n",
        "sales_long[\"week_of_year\"] = sales_long[\"date\"].dt.isocalendar().week\n",
        "sales_long[\"month\"] = sales_long[\"date\"].dt.month.astype(int)\n",
        "sales_long[\"quarter\"] = sales_long[\"date\"].dt.quarter.astype(int)\n",
        "\n",
        "# Merge master on Product (keep only ProductGroup, Department to avoid Store conflict)\n",
        "master_cols = [\"Product\", \"ProductGroup\", \"Department\"]\n",
        "master_subset = master_df[master_cols].drop_duplicates(subset=[\"Product\"])\n",
        "sales_long = sales_long.merge(master_subset, on=\"Product\", how=\"left\")\n",
        "\n",
        "# Fill missing with 0\n",
        "sales_long[\"ProductGroup\"] = sales_long[\"ProductGroup\"].fillna(0).astype(int)\n",
        "sales_long[\"Department\"] = sales_long[\"Department\"].fillna(0).astype(int)\n",
        "\n",
        "# Sort\n",
        "sales_long = sales_long.sort_values([\"Store\", \"Product\", \"date\"]).reset_index(drop=True)\n",
        "\n",
        "print(f\"Sales data shape: {sales_long.shape}\")\n",
        "print(f\"Columns: {list(sales_long.columns)}\")\n",
        "print(f\"✓ Data loaded successfully\")\n"
      ]
    },
    {
      "cell_type": "code",
      "execution_count": 3,
      "metadata": {},
      "outputs": [
        {
          "name": "stdout",
          "output_type": "stream",
          "text": [
            "Loading TimesFM 2.5 with quantile forecasting...\n",
            "Compiling with quantile head enabled...\n",
            "✓ Model loaded with quantile head enabled\n"
          ]
        }
      ],
      "source": [
        "# Load TimesFM 2.5 (quantile head)\n",
        "print(\"Loading TimesFM 2.5 with quantile forecasting...\")\n",
        "model = timesfm.TimesFM_2p5_200M_torch.from_pretrained(\"google/timesfm-2.5-200m-pytorch\")\n",
        "\n",
        "print(\"Compiling with quantile head enabled...\")\n",
        "model.compile(\n",
        "    timesfm.ForecastConfig(\n",
        "        max_context=512,\n",
        "        max_horizon=128,\n",
        "        normalize_inputs=True,\n",
        "        use_continuous_quantile_head=True,\n",
        "        force_flip_invariance=True,\n",
        "        infer_is_positive=True,\n",
        "        fix_quantile_crossing=True,\n",
        "    )\n",
        ")\n",
        "print(\"✓ Model loaded with quantile head enabled\")\n"
      ]
    },
    {
      "cell_type": "code",
      "execution_count": 4,
      "metadata": {},
      "outputs": [
        {
          "name": "stdout",
          "output_type": "stream",
          "text": [
            "Prepared 50 SKUs for testing\n"
          ]
        }
      ],
      "source": [
        "# Prepare subset (50 SKUs)\n",
        "CONTEXT_LENGTH = 140\n",
        "HORIZON = 3\n",
        "TEST_START_WEEK = 140\n",
        "\n",
        "sku_volumes = sales_long.groupby([\"Store\", \"Product\"])[\"sales_qty\"].sum().reset_index()\n",
        "sku_list = sku_volumes.sort_values(\"sales_qty\", ascending=False).head(50)[[\"Store\", \"Product\"]]\n",
        "\n",
        "# Prepare inputs/actuals\n",
        "inputs, actuals = [], []\n",
        "for _, row in sku_list.iterrows():\n",
        "    sku_data = sales_long[(sales_long[\"Store\"] == row[\"Store\"]) & (sales_long[\"Product\"] == row[\"Product\"])].sort_values(\"date\")\n",
        "    inputs.append(sku_data.iloc[:TEST_START_WEEK][\"sales_qty\"].values[-CONTEXT_LENGTH:])\n",
        "    actuals.append(sku_data.iloc[TEST_START_WEEK:TEST_START_WEEK+HORIZON][\"sales_qty\"].values)\n",
        "\n",
        "actuals = np.array(actuals)\n",
        "print(f\"Prepared {len(inputs)} SKUs for testing\")\n"
      ]
    },
    {
      "cell_type": "code",
      "execution_count": 5,
      "metadata": {},
      "outputs": [
        {
          "name": "stdout",
          "output_type": "stream",
          "text": [
            "✓ Covariates prepared for 50 SKUs\n"
          ]
        }
      ],
      "source": [
        "# Prepare covariates\n",
        "required_cols = {\"Store\", \"Product\", \"date\", \"sales_qty\", \"month\", \"week_of_year\", \"quarter\"}\n",
        "missing = required_cols - set(sales_long.columns)\n",
        "assert not missing, f\"Missing required columns in sales_long: {missing}\"\n",
        "\n",
        "static_categorical_covariates = {\"store\": [], \"product_group\": [], \"department\": []}\n",
        "static_numerical_covariates = {\"mean_demand\": [], \"cv_demand\": []}\n",
        "dynamic_categorical_covariates = {\"month\": [], \"week_of_year\": [], \"quarter\": []}\n",
        "dynamic_numerical_covariates = {\"week_index\": []}\n",
        "\n",
        "for _, row in sku_list.iterrows():\n",
        "    sku_data = sales_long[(sales_long[\"Store\"] == row[\"Store\"]) & (sales_long[\"Product\"] == row[\"Product\"])].sort_values(\"date\")\n",
        "    if sku_data.empty:\n",
        "        continue\n",
        "    \n",
        "    # Static features\n",
        "    static_categorical_covariates[\"store\"].append(int(row[\"Store\"]))\n",
        "    static_categorical_covariates[\"product_group\"].append(int(sku_data.iloc[0].get(\"ProductGroup\", 0)))\n",
        "    static_categorical_covariates[\"department\"].append(int(sku_data.iloc[0].get(\"Department\", 0)))\n",
        "    \n",
        "    mean_demand = float(sku_data[\"sales_qty\"].mean())\n",
        "    std_demand = float(sku_data[\"sales_qty\"].std())\n",
        "    cv_demand = (std_demand / mean_demand) if mean_demand > 0 else 0.0\n",
        "    static_numerical_covariates[\"mean_demand\"].append(mean_demand)\n",
        "    static_numerical_covariates[\"cv_demand\"].append(cv_demand)\n",
        "    \n",
        "    # Dynamic features\n",
        "    context_data = sku_data.iloc[:TEST_START_WEEK][-CONTEXT_LENGTH:]\n",
        "    horizon_data = sku_data.iloc[TEST_START_WEEK:TEST_START_WEEK+HORIZON]\n",
        "    combined = pd.concat([context_data, horizon_data])\n",
        "    \n",
        "    dynamic_categorical_covariates[\"month\"].append(combined[\"month\"].astype(int).tolist())\n",
        "    dynamic_categorical_covariates[\"week_of_year\"].append(combined[\"week_of_year\"].astype(int).tolist())\n",
        "    dynamic_categorical_covariates[\"quarter\"].append(combined[\"quarter\"].astype(int).tolist())\n",
        "    dynamic_numerical_covariates[\"week_index\"].append(list(range(len(combined))))\n",
        "\n",
        "print(f\"✓ Covariates prepared for {len(inputs)} SKUs\")\n"
      ]
    },
    {
      "cell_type": "code",
      "execution_count": 6,
      "metadata": {},
      "outputs": [
        {
          "name": "stdout",
          "output_type": "stream",
          "text": [
            "Generating quantile forecasts with covariates...\n",
            "Point forecast (with covariates): (50, 3)\n",
            "Quantile forecast (with covariates): (50, 3, 10)\n",
            "✓ Quantile tensor format validated\n"
          ]
        }
      ],
      "source": [
        "# Forecast with covariates + quantiles\n",
        "print(\"Generating quantile forecasts with covariates...\")\n",
        "combined_forecast, xreg_forecast, quantile_forecast_list = model.forecast_with_covariates(\n",
        "    horizon=HORIZON,\n",
        "    inputs=inputs,\n",
        "    static_categorical_covariates=static_categorical_covariates,\n",
        "    static_numerical_covariates=static_numerical_covariates,\n",
        "    dynamic_categorical_covariates=dynamic_categorical_covariates,\n",
        "    dynamic_numerical_covariates=dynamic_numerical_covariates,\n",
        "    xreg_mode=\"xreg + timesfm\",\n",
        ")\n",
        "\n",
        "point_forecast = np.array(combined_forecast)\n",
        "quantile_forecast = np.array(quantile_forecast_list)\n",
        "\n",
        "print(f\"Point forecast (with covariates): {point_forecast.shape}\")\n",
        "print(f\"Quantile forecast (with covariates): {quantile_forecast.shape}\")\n",
        "assert quantile_forecast.shape[-1] == 10, \"Expected last dim = 10 ([mean, P10..P90])\"\n",
        "print(\"✓ Quantile tensor format validated\")\n"
      ]
    }
  ],
  "metadata": {
    "language_info": {
      "name": "python"
    }
  },
  "nbformat": 4,
  "nbformat_minor": 2
}
