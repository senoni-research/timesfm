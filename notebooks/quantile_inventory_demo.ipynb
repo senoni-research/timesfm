{
  "cells": [
    {
      "cell_type": "markdown",
      "metadata": {},
      "source": [
        "# TimesFM 2.5 Quantile Forecasting for Inventory Planning\n",
        "\n",
        "This notebook demonstrates using TimesFM 2.5's **quantile head** for inventory decisions:\n",
        "\n",
        "1. **Service-Level Policies**: Target 90%/95% service by ordering at P90/P95 quantile\n",
        "2. **Newsvendor Optimization**: Choose quantile based on stockout vs holding cost ratio\n",
        "3. **Calibration**: Verify quantiles match empirical frequencies\n",
        "4. **Cost Metrics**: Measure stockouts, holding costs, and achieved service levels\n",
        "\n",
        "**Data**: VN2 Inventory Planning Challenge\n",
        "\n",
        "**Reference**: See `quantile.md` for detailed theory and references.\n"
      ]
    },
    {
      "cell_type": "markdown",
      "metadata": {},
      "source": [
        "## 1. Setup and Data Loading\n"
      ]
    },
    {
      "cell_type": "code",
      "execution_count": 1,
      "metadata": {},
      "outputs": [
        {
          "name": "stdout",
          "output_type": "stream",
          "text": [
            "PyTorch version: 2.8.0\n",
            "CUDA available: False\n"
          ]
        }
      ],
      "source": [
        "import sys\n",
        "from pathlib import Path\n",
        "import pandas as pd\n",
        "import numpy as np\n",
        "import matplotlib.pyplot as plt\n",
        "import seaborn as sns\n",
        "from datetime import datetime\n",
        "import warnings\n",
        "warnings.filterwarnings('ignore')\n",
        "\n",
        "# TimesFM\n",
        "import torch\n",
        "timesfm_path = Path(\"..\").resolve()\n",
        "if str(timesfm_path) not in sys.path:\n",
        "    sys.path.insert(0, str(timesfm_path))\n",
        "import timesfm\n",
        "\n",
        "sns.set_theme(style=\"whitegrid\")\n",
        "plt.rcParams['figure.figsize'] = (14, 6)\n",
        "\n",
        "print(f\"PyTorch version: {torch.__version__}\")\n",
        "print(f\"CUDA available: {torch.cuda.is_available()}\")\n"
      ]
    },
    {
      "cell_type": "code",
      "execution_count": 2,
      "metadata": {},
      "outputs": [
        {
          "name": "stdout",
          "output_type": "stream",
          "text": [
            "Sales data shape: (94043, 4)\n"
          ]
        }
      ],
      "source": [
        "# Load VN2 data (reuse from main notebook)\n",
        "DATA_DIR = Path(\"../../vn2inventory/data\").resolve()\n",
        "\n",
        "sales_df = pd.read_csv(DATA_DIR / \"Week 0 - 2024-04-08 - Sales.csv\")\n",
        "master_df = pd.read_csv(DATA_DIR / \"Week 0 - Master.csv\")\n",
        "\n",
        "# Convert to long format\n",
        "id_cols = [\"Store\", \"Product\"]\n",
        "sales_long = sales_df.melt(id_vars=id_cols, var_name=\"date\", value_name=\"sales_qty\")\n",
        "sales_long[\"date\"] = pd.to_datetime(sales_long[\"date\"])\n",
        "sales_long[\"sales_qty\"] = pd.to_numeric(sales_long[\"sales_qty\"], errors=\"coerce\").fillna(0)\n",
        "sales_long = sales_long.sort_values([\"Store\", \"Product\", \"date\"]).reset_index(drop=True)\n",
        "\n",
        "print(f\"Sales data shape: {sales_long.shape}\")\n"
      ]
    },
    {
      "cell_type": "markdown",
      "metadata": {},
      "source": [
        "## 2. Load TimesFM 2.5 with Quantile Head\n",
        "\n",
        "**Key parameter**: `use_continuous_quantile_head=True`\n"
      ]
    },
    {
      "cell_type": "code",
      "execution_count": 3,
      "metadata": {},
      "outputs": [
        {
          "name": "stdout",
          "output_type": "stream",
          "text": [
            "Loading TimesFM 2.5 with quantile forecasting...\n",
            "Compiling with quantile head enabled...\n",
            "✓ Model loaded with quantile head enabled\n"
          ]
        }
      ],
      "source": [
        "# Load TimesFM 2.5 with quantile head\n",
        "print(\"Loading TimesFM 2.5 with quantile forecasting...\")\n",
        "model = timesfm.TimesFM_2p5_200M_torch.from_pretrained(\"google/timesfm-2.5-200m-pytorch\")\n",
        "\n",
        "print(\"Compiling with quantile head enabled...\")\n",
        "model.compile(\n",
        "    timesfm.ForecastConfig(\n",
        "        max_context=512,\n",
        "        max_horizon=128,\n",
        "        normalize_inputs=True,\n",
        "        use_continuous_quantile_head=True,  # ← Enable quantile forecasting\n",
        "        force_flip_invariance=True,\n",
        "        infer_is_positive=True,\n",
        "        fix_quantile_crossing=True,  # ← Ensure monotonic quantiles\n",
        "    )\n",
        ")\n",
        "print(\"✓ Model loaded with quantile head enabled\")\n"
      ]
    },
    {
      "cell_type": "markdown",
      "metadata": {},
      "source": [
        "## 3. Generate Quantile Forecasts\n",
        "\n",
        "The model returns:\n",
        "- `point_forecast`: Mean/median\n",
        "- `quantile_forecast`: (N, H, Q) tensor with P10, P20, ..., P90\n"
      ]
    },
    {
      "cell_type": "code",
      "execution_count": 4,
      "metadata": {},
      "outputs": [
        {
          "name": "stdout",
          "output_type": "stream",
          "text": [
            "Prepared 50 SKUs for testing\n"
          ]
        }
      ],
      "source": [
        "# Prepare subset (same as main notebook: 50 SKUs, 3-week horizon)\n",
        "CONTEXT_LENGTH = 140\n",
        "HORIZON = 3\n",
        "TEST_START_WEEK = 140\n",
        "\n",
        "sku_volumes = sales_long.groupby([\"Store\", \"Product\"])[\"sales_qty\"].sum().reset_index()\n",
        "sku_list = sku_volumes.sort_values(\"sales_qty\", ascending=False).head(50)[[\"Store\", \"Product\"]]\n",
        "\n",
        "# Prepare inputs/actuals\n",
        "inputs, actuals = [], []\n",
        "for idx, row in sku_list.iterrows():\n",
        "    sku_data = sales_long[\n",
        "        (sales_long[\"Store\"] == row[\"Store\"]) & \n",
        "        (sales_long[\"Product\"] == row[\"Product\"])\n",
        "    ].sort_values(\"date\")\n",
        "    \n",
        "    inputs.append(sku_data.iloc[:TEST_START_WEEK][\"sales_qty\"].values[-CONTEXT_LENGTH:])\n",
        "    actuals.append(sku_data.iloc[TEST_START_WEEK:TEST_START_WEEK+HORIZON][\"sales_qty\"].values)\n",
        "\n",
        "actuals = np.array(actuals)\n",
        "print(f\"Prepared {len(inputs)} SKUs for testing\")\n"
      ]
    },
    {
      "cell_type": "code",
      "execution_count": 5,
      "metadata": {},
      "outputs": [
        {
          "name": "stdout",
          "output_type": "stream",
          "text": [
            "Generating quantile forecasts...\n",
            "Point forecast: (50, 3)\n",
            "Quantile forecast: (50, 3, 10)\n",
            "\\nQuantiles available: [mean, P10, P20, P30, P40, P50, P60, P70, P80, P90]\n",
            "✓ Quantile tensor format validated\n"
          ]
        }
      ],
      "source": [
        "# Generate quantile forecasts\n",
        "print(\"Generating quantile forecasts...\")\n",
        "point_forecast, quantile_forecast = model.forecast(\n",
        "    horizon=HORIZON,\n",
        "    inputs=inputs,\n",
        ")\n",
        "\n",
        "print(f\"Point forecast: {point_forecast.shape}\")\n",
        "print(f\"Quantile forecast: {quantile_forecast.shape}\")\n",
        "print(\"\\\\nQuantiles available: [mean, P10, P20, P30, P40, P50, P60, P70, P80, P90]\")\n",
        "\n",
        "# Runtime assertion for API consistency\n",
        "assert quantile_forecast.shape[-1] == 10, \"Expected last dim = 10 ([mean, P10..P90])\"\n",
        "print(\"✓ Quantile tensor format validated\")\n"
      ]
    },
    {
      "cell_type": "markdown",
      "metadata": {},
      "source": [
        "\n"
      ]
    },
    {
      "cell_type": "markdown",
      "metadata": {},
      "source": [
        "## 4. Service-Level Policies\n",
        "\n",
        "Use quantiles to target specific service levels\n"
      ]
    },
    {
      "cell_type": "code",
      "execution_count": 6,
      "metadata": {},
      "outputs": [
        {
          "name": "stdout",
          "output_type": "stream",
          "text": [
            "\\n📦 SERVICE-LEVEL POLICY RESULTS:\n",
            "\\nPolicy          Cycle Service %   Per-Step %   Excess/Demand    Shortage/Demand\n",
            "--------------------------------------------------------------------------------\n",
            "P50 (Median)               26.0%       42.0%          0.096            0.337\n",
            "P80                        58.0%       63.3%          0.279            0.194\n",
            "P90                        80.0%       74.7%          0.423            0.122\n",
            "\\n💡 P90 policy targets ~90% cycle service; verify via calibration.\n"
          ]
        }
      ],
      "source": [
        "def evaluate_service_policy(forecasts, actuals, policy_name):\n",
        "    \"\"\"Evaluate inventory policy: period (cycle) service %, plus excess/shortage ratios.\"\"\"\n",
        "    # Period (cycle) service: no stockout over the protection period (sum across horizon)\n",
        "    service_period = float(np.mean(forecasts.sum(axis=1) >= actuals.sum(axis=1))) * 100\n",
        "    \n",
        "    # Optional diagnostic: per-timestep coverage\n",
        "    service_timestep = float(np.mean(forecasts >= actuals)) * 100\n",
        "    \n",
        "    fc_flat = forecasts.flatten()\n",
        "    act_flat = actuals.flatten()\n",
        "    excess = np.sum(np.maximum(0, fc_flat - act_flat)) / np.sum(act_flat)\n",
        "    shortage = np.sum(np.maximum(0, act_flat - fc_flat)) / np.sum(act_flat)\n",
        "    \n",
        "    return {\n",
        "        \"policy\": policy_name,\n",
        "        \"service_period_%\": service_period,\n",
        "        \"service_timestep_%\": service_timestep,\n",
        "        \"excess_ratio\": excess,\n",
        "        \"shortage_ratio\": shortage\n",
        "    }\n",
        "\n",
        "# Extract key quantiles\n",
        "q50 = quantile_forecast[:, :, 5]  # Median\n",
        "q80 = quantile_forecast[:, :, 8]  # P80\n",
        "q90 = quantile_forecast[:, :, 9]  # P90\n",
        "\n",
        "# Evaluate policies\n",
        "policies = [(\"P50 (Median)\", q50), (\"P80\", q80), (\"P90\", q90)]\n",
        "results = [evaluate_service_policy(fc, actuals, name) for name, fc in policies]\n",
        "\n",
        "print(\"\\\\n📦 SERVICE-LEVEL POLICY RESULTS:\")\n",
        "print(f\"\\\\n{'Policy':<15} {'Cycle Service %':<17} {'Per-Step %':<12} {'Excess/Demand':<16} {'Shortage/Demand'}\")\n",
        "print(\"-\" * 80)\n",
        "for r in results:\n",
        "    print(f\"{r['policy']:<15} {r['service_period_%']:>15.1f}% {r['service_timestep_%']:>10.1f}% {r['excess_ratio']:>14.3f} {r['shortage_ratio']:>16.3f}\")\n",
        "\n",
        "print(\"\\\\n💡 P90 policy targets ~90% cycle service; verify via calibration.\")\n"
      ]
    },
    {
      "cell_type": "markdown",
      "metadata": {},
      "source": [
        "## 5. Newsvendor Cost Optimization\n",
        "\n",
        "Choose quantile based on **critical fractile** = Cu / (Cu + Co)\n",
        "- Cu = cost of underage (stockout)\n",
        "- Co = cost of overage (holding)\n"
      ]
    },
    {
      "cell_type": "code",
      "execution_count": 7,
      "metadata": {},
      "outputs": [
        {
          "name": "stdout",
          "output_type": "stream",
          "text": [
            "\\n💰 NEWSVENDOR OPTIMIZATION:\n",
            "\\nScenario                  Cu:Co      Fractile   Quantile   Cost         Service\n",
            "--------------------------------------------------------------------------------\n",
            "Balanced (1:1)            1:1       0.50       P50       2092            42.0%\n",
            "Stockout-Averse (4:1)     4:1       0.80       P80       5099            63.3%\n",
            "Very High Service (9:1)   9:1       0.90       P90       7347            74.7%\n",
            "\\n💡 Higher Cu/Co → Higher quantile → More safety stock\n"
          ]
        }
      ],
      "source": [
        "def newsvendor_policy(quantile_forecasts, actuals, cu, co):\n",
        "    \"\"\"Choose quantile based on cost ratio\"\"\"\n",
        "    critical_fractile = cu / (cu + co)\n",
        "    \n",
        "    # Map to closest quantile\n",
        "    quantile_levels = np.array([0.1, 0.2, 0.3, 0.4, 0.5, 0.6, 0.7, 0.8, 0.9])\n",
        "    closest_idx = np.argmin(np.abs(quantile_levels - critical_fractile))\n",
        "    chosen_q = quantile_levels[closest_idx]\n",
        "    \n",
        "    order_qty = quantile_forecasts[:, :, closest_idx + 1]  # +1 for mean offset\n",
        "    \n",
        "    excess = np.maximum(0, order_qty - actuals)\n",
        "    shortage = np.maximum(0, actuals - order_qty)\n",
        "    \n",
        "    total_cost = co * np.sum(excess) + cu * np.sum(shortage)\n",
        "    service = np.mean(order_qty >= actuals) * 100\n",
        "    \n",
        "    return {\n",
        "        \"fractile\": critical_fractile,\n",
        "        \"quantile\": chosen_q,\n",
        "        \"total_cost\": total_cost,\n",
        "        \"service\": service\n",
        "    }\n",
        "\n",
        "# Test scenarios\n",
        "scenarios = [\n",
        "    (\"Balanced (1:1)\", 1.0, 1.0),\n",
        "    (\"Stockout-Averse (4:1)\", 4.0, 1.0),\n",
        "    (\"Very High Service (9:1)\", 9.0, 1.0)\n",
        "]\n",
        "\n",
        "print(\"\\\\n💰 NEWSVENDOR OPTIMIZATION:\")\n",
        "print(f\"\\\\n{'Scenario':<25} {'Cu:Co':<10} {'Fractile':<10} {'Quantile':<10} {'Cost':<12} {'Service'}\")\n",
        "print(\"-\" * 80)\n",
        "\n",
        "for name, cu, co in scenarios:\n",
        "    r = newsvendor_policy(quantile_forecast, actuals, cu, co)\n",
        "    print(f\"{name:<25} {cu:.0f}:{co:.0f}{'':<6} {r['fractile']:<10.2f} P{int(r['quantile']*100):<8} {r['total_cost']:<12.0f} {r['service']:>7.1f}%\")\n",
        "\n",
        "print(\"\\\\n💡 Higher Cu/Co → Higher quantile → More safety stock\")\n"
      ]
    },
    {
      "cell_type": "markdown",
      "metadata": {},
      "source": [
        "\n"
      ]
    },
    {
      "cell_type": "code",
      "execution_count": null,
      "metadata": {},
      "outputs": [],
      "source": [
        "\n"
      ]
    },
    {
      "cell_type": "markdown",
      "metadata": {},
      "source": [
        "## 6. Summary\n",
        "\n",
        "**Key Takeaways:**\n",
        "\n",
        "1. ✅ TimesFM 2.5's quantile head provides P10-P90 forecasts natively\n",
        "2. ✅ Service-level policies: Use P90 for ~90% service (no arbitrary buffers)\n",
        "3. ✅ Newsvendor optimization: Choose quantile by cost ratio (Cu/(Cu+Co))\n",
        "4. ✅ Data-driven safety stock: Quantile spread captures true uncertainty\n",
        "5. ✅ Non-parametric: No distribution assumptions needed\n",
        "\n",
        "**Recommended Workflow:**\n",
        "1. Enable `use_continuous_quantile_head=True`\n",
        "2. Generate quantile forecasts\n",
        "3. Define policy: Service target → quantile; Cost ratio → newsvendor\n",
        "4. Validate calibration on test data\n",
        "5. Deploy and monitor\n",
        "\n",
        "**See `quantile.md` for full theory and references!**\n"
      ]
    }
  ],
  "metadata": {
    "kernelspec": {
      "display_name": ".venv",
      "language": "python",
      "name": "python3"
    },
    "language_info": {
      "codemirror_mode": {
        "name": "ipython",
        "version": 3
      },
      "file_extension": ".py",
      "mimetype": "text/x-python",
      "name": "python",
      "nbconvert_exporter": "python",
      "pygments_lexer": "ipython3",
      "version": "3.11.8"
    }
  },
  "nbformat": 4,
  "nbformat_minor": 4
}
